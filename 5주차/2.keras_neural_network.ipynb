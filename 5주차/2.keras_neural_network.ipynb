{
 "cells": [
  {
   "cell_type": "markdown",
   "metadata": {},
   "source": [
    "#### 출처 : https://keras.io/getting-started/sequential-model-guide/"
   ]
  },
  {
   "cell_type": "markdown",
   "metadata": {},
   "source": [
    "#### The 'sequential' model is a linear stack of layers"
   ]
  },
  {
   "cell_type": "code",
   "execution_count": 10,
   "metadata": {
    "collapsed": false
   },
   "outputs": [],
   "source": [
    "import keras\n",
    "from keras.models import Sequential\n",
    "from keras.layers import Dense, Dropout, Activation\n",
    "from keras.optimizers import SGD\n",
    "\n",
    "model = Sequential([\n",
    "    Dense(32, input_shape=(784,)),\n",
    "    Activation('relu'),\n",
    "    Dense(10),\n",
    "    Activation('softmax'),\n",
    "])"
   ]
  },
  {
   "cell_type": "code",
   "execution_count": 7,
   "metadata": {
    "collapsed": true
   },
   "outputs": [],
   "source": [
    "model = Sequential()\n",
    "model.add(Dense(32, input_dim=784))\n",
    "model.add(Activation('relu'))"
   ]
  },
  {
   "cell_type": "code",
   "execution_count": 8,
   "metadata": {
    "collapsed": false
   },
   "outputs": [
    {
     "name": "stdout",
     "output_type": "stream",
     "text": [
      "_________________________________________________________________\n",
      "Layer (type)                 Output Shape              Param #   \n",
      "=================================================================\n",
      "dense_6 (Dense)              (None, 32)                25120     \n",
      "_________________________________________________________________\n",
      "activation_6 (Activation)    (None, 32)                0         \n",
      "=================================================================\n",
      "Total params: 25,120\n",
      "Trainable params: 25,120\n",
      "Non-trainable params: 0\n",
      "_________________________________________________________________\n"
     ]
    }
   ],
   "source": [
    "model.summary() # 25120 = 784 * 32 + 32"
   ]
  },
  {
   "cell_type": "code",
   "execution_count": 21,
   "metadata": {
    "collapsed": false
   },
   "outputs": [],
   "source": [
    "# Generate dummy data\n",
    "import numpy as np\n",
    "x_train = np.random.random((1000, 20))\n",
    "y_train = keras.utils.to_categorical(np.random.randint(10, size=(1000, 1)), num_classes=10)\n",
    "x_test = np.random.random((100, 20))\n",
    "y_test = keras.utils.to_categorical(y_test_, num_classes=10)"
   ]
  },
  {
   "cell_type": "code",
   "execution_count": 22,
   "metadata": {
    "collapsed": true
   },
   "outputs": [],
   "source": [
    "model = Sequential()\n",
    "# Dense(64) is a fully-connected layer with 64 hidden units.\n",
    "# in the first layer, you must specify the expected input data shape:\n",
    "# here, 20-dimensional vectors.\n",
    "model.add(Dense(64, activation='relu', input_dim=20))\n",
    "model.add(Dropout(0.5))\n",
    "model.add(Dense(64, activation='relu'))\n",
    "model.add(Dropout(0.5))\n",
    "model.add(Dense(10, activation='softmax'))"
   ]
  },
  {
   "cell_type": "code",
   "execution_count": 23,
   "metadata": {
    "collapsed": true
   },
   "outputs": [],
   "source": [
    "sgd = SGD(lr=0.01, decay=1e-6, momentum=0.9, nesterov=True)\n",
    "model.compile(loss='categorical_crossentropy',\n",
    "              optimizer=sgd,\n",
    "              metrics=['accuracy'])"
   ]
  },
  {
   "cell_type": "code",
   "execution_count": 24,
   "metadata": {
    "collapsed": false
   },
   "outputs": [
    {
     "name": "stdout",
     "output_type": "stream",
     "text": [
      "Epoch 1/20\n",
      "1000/1000 [==============================] - 0s 416us/step - loss: 2.4894 - acc: 0.0980\n",
      "Epoch 2/20\n",
      "1000/1000 [==============================] - 0s 28us/step - loss: 2.3819 - acc: 0.1190\n",
      "Epoch 3/20\n",
      "1000/1000 [==============================] - 0s 30us/step - loss: 2.3623 - acc: 0.1030\n",
      "Epoch 4/20\n",
      "1000/1000 [==============================] - 0s 28us/step - loss: 2.3391 - acc: 0.0940\n",
      "Epoch 5/20\n",
      "1000/1000 [==============================] - 0s 27us/step - loss: 2.3251 - acc: 0.1100\n",
      "Epoch 6/20\n",
      "1000/1000 [==============================] - 0s 31us/step - loss: 2.3269 - acc: 0.1060\n",
      "Epoch 7/20\n",
      "1000/1000 [==============================] - 0s 27us/step - loss: 2.3197 - acc: 0.1040\n",
      "Epoch 8/20\n",
      "1000/1000 [==============================] - 0s 31us/step - loss: 2.3095 - acc: 0.1080\n",
      "Epoch 9/20\n",
      "1000/1000 [==============================] - 0s 31us/step - loss: 2.3158 - acc: 0.0980\n",
      "Epoch 10/20\n",
      "1000/1000 [==============================] - 0s 27us/step - loss: 2.3016 - acc: 0.1070\n",
      "Epoch 11/20\n",
      "1000/1000 [==============================] - 0s 27us/step - loss: 2.3036 - acc: 0.0990\n",
      "Epoch 12/20\n",
      "1000/1000 [==============================] - 0s 27us/step - loss: 2.3150 - acc: 0.1260\n",
      "Epoch 13/20\n",
      "1000/1000 [==============================] - 0s 28us/step - loss: 2.3213 - acc: 0.0820\n",
      "Epoch 14/20\n",
      "1000/1000 [==============================] - 0s 24us/step - loss: 2.3027 - acc: 0.1090\n",
      "Epoch 15/20\n",
      "1000/1000 [==============================] - 0s 30us/step - loss: 2.3094 - acc: 0.1020\n",
      "Epoch 16/20\n",
      "1000/1000 [==============================] - 0s 28us/step - loss: 2.3030 - acc: 0.1050\n",
      "Epoch 17/20\n",
      "1000/1000 [==============================] - 0s 29us/step - loss: 2.2986 - acc: 0.1160\n",
      "Epoch 18/20\n",
      "1000/1000 [==============================] - 0s 27us/step - loss: 2.3025 - acc: 0.1230\n",
      "Epoch 19/20\n",
      "1000/1000 [==============================] - 0s 26us/step - loss: 2.3001 - acc: 0.1180\n",
      "Epoch 20/20\n",
      "1000/1000 [==============================] - 0s 25us/step - loss: 2.3008 - acc: 0.1010\n"
     ]
    },
    {
     "data": {
      "text/plain": [
       "<keras.callbacks.History at 0x1e2b6a08748>"
      ]
     },
     "execution_count": 24,
     "metadata": {},
     "output_type": "execute_result"
    }
   ],
   "source": [
    "model.fit(x_train, y_train,\n",
    "          epochs=20,\n",
    "          batch_size=128)"
   ]
  },
  {
   "cell_type": "code",
   "execution_count": 29,
   "metadata": {
    "collapsed": false
   },
   "outputs": [
    {
     "data": {
      "text/plain": [
       "array([1, 1, 6, 2, 2, 1, 1, 1, 1, 3, 1, 1, 9, 1, 3, 1, 1, 1, 1, 3, 2, 3, 3,\n",
       "       3, 3, 2, 1, 3, 3, 1, 7, 2, 3, 1, 3, 6, 1, 3, 3, 1, 3, 2, 3, 3, 3, 3,\n",
       "       1, 1, 1, 1, 3, 1, 2, 1, 1, 1, 3, 3, 2, 1, 3, 3, 3, 3, 2, 1, 3, 3, 3,\n",
       "       3, 3, 3, 1, 1, 3, 2, 1, 2, 6, 3, 3, 1, 3, 3, 1, 1, 1, 3, 2, 3, 1, 1,\n",
       "       3, 2, 3, 1, 3, 1, 1, 1], dtype=int64)"
      ]
     },
     "execution_count": 29,
     "metadata": {},
     "output_type": "execute_result"
    }
   ],
   "source": [
    "model.predict_classes(x_test)"
   ]
  }
 ],
 "metadata": {
  "anaconda-cloud": {},
  "kernelspec": {
   "display_name": "Python [conda root]",
   "language": "python",
   "name": "conda-root-py"
  },
  "language_info": {
   "codemirror_mode": {
    "name": "ipython",
    "version": 3
   },
   "file_extension": ".py",
   "mimetype": "text/x-python",
   "name": "python",
   "nbconvert_exporter": "python",
   "pygments_lexer": "ipython3",
   "version": "3.5.4"
  }
 },
 "nbformat": 4,
 "nbformat_minor": 1
}
