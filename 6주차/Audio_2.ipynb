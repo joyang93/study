{
 "cells": [
  {
   "cell_type": "code",
   "execution_count": 1,
   "metadata": {},
   "outputs": [
    {
     "name": "stdout",
     "output_type": "stream",
     "text": [
      "WARNING:tensorflow:From C:\\Users\\xp102\\Anaconda3\\envs\\tensorflow\\lib\\site-packages\\tensorflow\\contrib\\learn\\python\\learn\\datasets\\base.py:198: retry (from tensorflow.contrib.learn.python.learn.datasets.base) is deprecated and will be removed in a future version.\n",
      "Instructions for updating:\n",
      "Use the retry module or similar alternatives.\n"
     ]
    }
   ],
   "source": [
    "%matplotlib inline\n",
    "import matplotlib.pyplot as plt\n",
    "\n",
    "#import IPython.display as ipd\n",
    "import numpy as np\n",
    "import librosa\n",
    "import librosa.display\n",
    "\n",
    "import scipy\n",
    "from scipy import signal\n",
    "from pydub import AudioSegment\n",
    "#from pydub.playback import play\n",
    "\n",
    "from scipy.io import wavfile\n",
    "\n",
    "import tensorflow as tf\n",
    "import tensorflow.contrib.eager as tfe\n",
    "\n",
    "tfe.enable_eager_execution()\n",
    "\n",
    "# For CPU only\n",
    "#pip install tf-nightly  \n",
    "# For GPU support\n",
    "#pip install tf-nightly-gpu\n",
    "\n",
    "import os\n",
    "import shutil\n",
    "import random"
   ]
  },
  {
   "cell_type": "markdown",
   "metadata": {},
   "source": [
    "# validata set 생성"
   ]
  },
  {
   "cell_type": "code",
   "execution_count": 83,
   "metadata": {},
   "outputs": [],
   "source": [
    "train_path = \"C:\\\\Users\\\\xp102\\\\Desktop\\\\투빅스 오디오\\\\audio_word\"\n",
    "\n",
    "train_ratio = 0.7\n",
    "val_ratio = 1 - train_ratio\n",
    "\n",
    "classnames = os.listdir(train_path)\n",
    "if '_background_noise_' in classnames:\n",
    "    classnames.remove('_background_noise_')"
   ]
  },
  {
   "cell_type": "code",
   "execution_count": 84,
   "metadata": {
    "collapsed": true
   },
   "outputs": [],
   "source": [
    "# 화자별로 따로 나눌 new_train, val_train폴더 및 클래스 폴더 생성\n",
    "new_train_path = \"C:\\\\Users\\\\xp102\\\\Desktop\\\\투빅스 오디오\\\\train_audio\"\n",
    "val_train_path  = \"C:\\\\Users\\\\xp102\\\\Desktop\\\\투빅스 오디오\\\\val_audio\""
   ]
  },
  {
   "cell_type": "code",
   "execution_count": 99,
   "metadata": {
    "collapsed": true
   },
   "outputs": [],
   "source": [
    "os.mkdir(new_train_path)\n",
    "os.mkdir(val_train_path)\n",
    "\n",
    "for m in classnames:\n",
    "    target = os.path.join(new_train_path,m)\n",
    "    os.mkdir(target)\n",
    "    \n",
    "    target = os.path.join(val_train_path,m)\n",
    "    os.mkdir(target) "
   ]
  },
  {
   "cell_type": "code",
   "execution_count": 102,
   "metadata": {},
   "outputs": [
    {
     "name": "stdout",
     "output_type": "stream",
     "text": [
      "계단\n",
      "과제\n",
      "구름\n"
     ]
    }
   ],
   "source": [
    "for d in classnames:\n",
    "    print(d)\n",
    "    temp = os.listdir(os.path.join(train_path,d))\n",
    "    temp2 = [] \n",
    "\n",
    "    for i in temp:\n",
    "        temp2.append(i.split(\"_\")[0])  # 화자에 대한 정보\n",
    "\n",
    "    name_set = set(temp2) # unique\n",
    "\n",
    "    train_num = round(len(name_set) * train_ratio)\n",
    "    val_num = round(len(name_set) * val_ratio)\n",
    "    train_name = []\n",
    "    val_name = []\n",
    "\n",
    "    values = np.array(temp2)\n",
    "\n",
    "    for j in range(train_num):\n",
    "        searchval = list(name_set)[j]\n",
    "        ii = np.where(values == searchval)[0]\n",
    "        train_name.append( [temp[x] for x in list(ii)] )\n",
    "        \n",
    "    train_name2 = [y for x in train_name for y in x] \n",
    "\n",
    "    for q in train_name2:\n",
    "        shutil.copy(src = os.path.join(train_path, d,q),  #파일 복사\n",
    "                   dst = os.path.join(new_train_path, d,q))\n",
    "\n",
    "\n",
    "    for k in range(train_num,len(name_set)):\n",
    "        searchval = list(name_set)[k]\n",
    "        ii = np.where(values == searchval)[0]\n",
    "        val_name.append( [temp[x] for x in list(ii)] )\n",
    "        \n",
    "    val_name2 = [y for x in val_name for y in x]\n",
    "        \n",
    "    for q in val_name2:\n",
    "        shutil.copy(src = os.path.join(train_path, d,q),  #파일 복사\n",
    "                    dst = os.path.join(val_train_path, d,q))"
   ]
  },
  {
   "cell_type": "markdown",
   "metadata": {},
   "source": [
    "\n",
    "# train, val, test 고화질 스펙트로그램 이미지 생성"
   ]
  },
  {
   "cell_type": "code",
   "execution_count": 108,
   "metadata": {},
   "outputs": [],
   "source": [
    "train_image_path = \"C:\\\\Users\\\\xp102\\\\Desktop\\\\투빅스 오디오\\\\train_image\"\n",
    "val_image_path  = \"C:\\\\Users\\\\xp102\\\\Desktop\\\\투빅스 오디오\\\\val_image\"\n",
    "\n",
    "os.mkdir(train_image_path)\n",
    "os.mkdir(val_image_path)\n",
    "for m in classnames:\n",
    "    target = os.path.join(train_image_path,m)\n",
    "    os.mkdir(target)\n",
    "    \n",
    "    target = os.path.join(val_image_path,m)\n",
    "    os.mkdir(target) "
   ]
  },
  {
   "cell_type": "code",
   "execution_count": 104,
   "metadata": {
    "collapsed": true
   },
   "outputs": [],
   "source": [
    "def hz_to_mel(freq):\n",
    "    return 1127. * tf.log(1.0 + (freq / 700.))\n",
    "\n",
    "def mel_to_hz(mel):\n",
    "    return 700.*(tf.exp(mel/1127.)-1.)\n",
    "\n",
    "def multi_ffts_to_mel(freq_array, n_mels=128):\n",
    "    melfreq_array = tf.expand_dims(hz_to_mel(freq_array),0)\n",
    "  \n",
    "    mel_edges = tf.lin_space(hz_to_mel(tf.reduce_min(freq_array)), #or just use 0\n",
    "                           hz_to_mel(tf.reduce_max(freq_array)), #or SR/2\n",
    "                           n_mels+2)\n",
    "  \n",
    "    lower_edge_mel, center_mel, upper_edge_mel =tf.split(tf.contrib.signal.frame(mel_edges, 3, 1, axis=-1), 3, axis=-1)\n",
    "\n",
    "    wt_down = (melfreq_array - lower_edge_mel) / (center_mel - lower_edge_mel)\n",
    "    wt_up = (upper_edge_mel - melfreq_array) / (upper_edge_mel - center_mel)\n",
    "  \n",
    "    mel_weights_matrix = tf.maximum(0.0, tf.minimum(wt_down, wt_up))\n",
    "    center_mel_freqs = mel_to_hz(center_mel) \n",
    "  \n",
    "    return mel_weights_matrix, center_mel_freqs\n",
    "\n",
    "def audioframes2logmelspec(b_framed_signal, n_ffts=5, wvls_per_window_hinge=16, n_mel=128, fft_l1=1024, sr=50000):\n",
    "  # batch_framed_signal has shape: (batch_size x n_windows x fft_l1)\n",
    "  # decrease weights for samples w/ more than wvls_per_window_hinge\n",
    "  # wvls_per_window_hinge method could be improved, maybe weight~pmf of poisson?\n",
    "    \n",
    "    fft1_space = tf.lin_space(0., .5, 1+fft_l1//2)[1:]\n",
    "    freq_list =[sr*fft1_space] \n",
    "    n_wv_list =[fft_l1*fft1_space]\n",
    "\n",
    "    fft_list =[tf.spectral.rfft(b_framed_signal)[:,:,1:]]\n",
    "  \n",
    "    for i in range(1,n_ffts):\n",
    "        fft_lnew = fft_l1//2**i\n",
    "        fftnew_space = tf.lin_space(0., .5, 1+fft_lnew//2)[1:]\n",
    "    \n",
    "        freq_list.append(sr*fftnew_space)\n",
    "        n_wv_list.append(fft_lnew*fftnew_space)\n",
    "    \n",
    "        frames_new = b_framed_signal[:, :, (fft_l1-fft_lnew)//2:(fft_l1-fft_lnew)//2+fft_lnew]\n",
    "        fft_list.append(tf.spectral.rfft(frames_new)[:,:,1:])\n",
    "    \n",
    "  \n",
    "    freq_concat = tf.concat(freq_list, axis=-1)\n",
    "    n_wv_concat = tf.concat(n_wv_list, axis=-1)\n",
    "    fft_concat = tf.concat(fft_list, axis=-1)\n",
    "    \n",
    "    magnitude_spectros = tf.abs(fft_concat)\n",
    "\n",
    "    mel_wts, center_mel_freqs = multi_ffts_to_mel(freq_concat, n_mel)\n",
    "    wvls_wts = tf.where(n_wv_concat>wvls_per_window_hinge, wvls_per_window_hinge/n_wv_concat, tf.ones_like(n_wv_concat))\n",
    "  \n",
    "    mel_spectro=tf.tensordot(magnitude_spectros, (mel_wts*tf.expand_dims(wvls_wts,0)),axes = [[2], [1]])\n",
    "\n",
    "    log_mel_spectro = tf.log(mel_spectro+1e-7)\n",
    "  \n",
    "    return tf.expand_dims(log_mel_spectro, -1), center_mel_freqs"
   ]
  },
  {
   "cell_type": "code",
   "execution_count": 105,
   "metadata": {
    "collapsed": true
   },
   "outputs": [],
   "source": [
    "def plot_several_logmelspec(path,save_dir):\n",
    "    fig = plt.figure(figsize=(5, 5))\n",
    "\n",
    "    sr, y = wavfile.read(path)\n",
    "    signal = y.astype(np.float32) / np.iinfo(np.int16).max\n",
    "\n",
    "    b_signals = tf.expand_dims(signal, axis=0)\n",
    "\n",
    "    b_framed_signal = tf.contrib.signal.frame(b_signals, frame_length=1024, frame_step = 32)\n",
    "    log_mel_spectro, center_mel_freqs = audioframes2logmelspec(b_framed_signal, sr=sr)\n",
    "\n",
    "    librosa.display.specshow(log_mel_spectro[0,:,:,0].numpy().T, sr=sr, \n",
    "                             #x_axis='time', y_axis='mel', \n",
    "                             hop_length=32, \n",
    "                             fmin=tf.reduce_min(center_mel_freqs), \n",
    "                             fmax=tf.reduce_max(center_mel_freqs), \n",
    "                             cmap='coolwarm')\n",
    "\n",
    "    fig.savefig(save_dir, bbox_inches='tight', pad_inches=0)\n",
    "    #plt.tight_layout()\n",
    "    plt.close('all') "
   ]
  },
  {
   "cell_type": "markdown",
   "metadata": {},
   "source": [
    "# make train, test Image "
   ]
  },
  {
   "cell_type": "code",
   "execution_count": 109,
   "metadata": {},
   "outputs": [
    {
     "name": "stdout",
     "output_type": "stream",
     "text": [
      "계단\n",
      "과제\n",
      "구름\n"
     ]
    }
   ],
   "source": [
    "for name in classnames:\n",
    "    print(name)\n",
    "    path = os.path.join(new_train_path,name)\n",
    "    audio_list = os.listdir(path)\n",
    "    \n",
    "    for audio in audio_list:\n",
    "        audio_dir = os.path.join(path,audio)\n",
    "        save_dir = os.path.join(train_image_path,name,audio.split(\".\")[0]+\".png\")\n",
    "        \n",
    "        plot_several_logmelspec(audio_dir,save_dir)\n",
    "        plt.close('all') # 너무 많이 쌓이면 에러가 난다."
   ]
  },
  {
   "cell_type": "code",
   "execution_count": 110,
   "metadata": {},
   "outputs": [
    {
     "name": "stdout",
     "output_type": "stream",
     "text": [
      "계단\n",
      "과제\n",
      "구름\n"
     ]
    }
   ],
   "source": [
    "for name in classnames:\n",
    "    print(name)\n",
    "    path = os.path.join(val_train_path,name)\n",
    "    audio_list = os.listdir(path)\n",
    "    \n",
    "    for audio in audio_list:\n",
    "        audio_dir = os.path.join(path,audio)\n",
    "        save_dir = os.path.join(val_image_path,name,audio.split(\".\")[0]+\".png\")\n",
    "        \n",
    "        plot_several_logmelspec(audio_dir,save_dir)\n",
    "        plt.close('all') # 너무 많이 쌓이면 에러가 난다."
   ]
  },
  {
   "cell_type": "code",
   "execution_count": null,
   "metadata": {
    "collapsed": true
   },
   "outputs": [],
   "source": []
  }
 ],
 "metadata": {
  "kernelspec": {
   "display_name": "Python 3",
   "language": "python",
   "name": "python3"
  },
  "language_info": {
   "codemirror_mode": {
    "name": "ipython",
    "version": 3
   },
   "file_extension": ".py",
   "mimetype": "text/x-python",
   "name": "python",
   "nbconvert_exporter": "python",
   "pygments_lexer": "ipython3",
   "version": "3.6.3"
  }
 },
 "nbformat": 4,
 "nbformat_minor": 2
}
